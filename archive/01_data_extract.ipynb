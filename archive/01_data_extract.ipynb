{
 "cells": [
  {
   "cell_type": "code",
   "execution_count": 2,
   "id": "a2984db4-785f-400e-9aaa-e02a6beef2cf",
   "metadata": {},
   "outputs": [
    {
     "name": "stdout",
     "output_type": "stream",
     "text": [
      "Extracted: /Users/agalyaayyadurai/Documents/Dissertation/Automated-Equity-Valuation/data/raw/sub.txt\n"
     ]
    }
   ],
   "source": [
    "import zipfile\n",
    "\n",
    "import pandas as pd\n",
    "\n",
    "zip_path = \"/Users/agalyaayyadurai/Documents/Dissertation/Automated-Equity-Valuation/data/raw/2025q2.zip\"\n",
    "folder_path = \"/Users/agalyaayyadurai/Documents/Dissertation/Automated-Equity-Valuation/data/raw/\"\n",
    "\n",
    "with zipfile.ZipFile(zip_path, \"r\") as z:\n",
    "    for name in z.namelist():\n",
    "        if name.lower().endswith(\"sub.txt\"):\n",
    "            z.extract(name, path=folder_path)\n",
    "            print(\"Extracted:\", folder_path + name)"
   ]
  },
  {
   "cell_type": "code",
   "execution_count": 12,
   "id": "d408c3fd-2cda-4aff-bd17-a62d0bf76688",
   "metadata": {},
   "outputs": [
    {
     "name": "stdout",
     "output_type": "stream",
     "text": [
      "Number of 10-K filings: 624\n",
      "                    adsh      cik                             name    fy  \\\n",
      "30  0001213900-25-032210  1860484      RELATIVITY ACQUISITION CORP  2024   \n",
      "37  0001683168-25-002614  1593184                  BIOREGENX, INC.  2024   \n",
      "47  0001170010-25-000024  1170010                       CARMAX INC  2024   \n",
      "58  0001096906-25-000593  1848672                 GLIDELOGIC CORP.  2024   \n",
      "66  0001213900-25-047877  1865506                 ZEO ENERGY CORP.  2024   \n",
      "67  0000313143-25-000025   313143                 HAEMONETICS CORP  2024   \n",
      "68  0001477932-25-002710  1132509               NEW MOMENTUM CORP.  2024   \n",
      "69  0001641172-25-017134  1053369   ELITE PHARMACEUTICALS INC /NV/  2024   \n",
      "70  0001641172-25-002917  1847345  ASPIRE BIOPHARMA HOLDINGS, INC.  2024   \n",
      "78  0000353184-25-000044   353184                        AIR T INC  2024   \n",
      "\n",
      "      period     filed  \n",
      "30  20241231  20250415  \n",
      "37  20241231  20250415  \n",
      "47  20250228  20250411  \n",
      "58  20250131  20250425  \n",
      "66  20241231  20250528  \n",
      "67  20250331  20250521  \n",
      "68  20241231  20250415  \n",
      "69  20250331  20250630  \n",
      "70  20241231  20250407  \n",
      "78  20250331  20250627  \n"
     ]
    }
   ],
   "source": [
    "# Reading the sub.txt file with pandas\n",
    "sub = pd.read_csv(folder_path+\"sub.txt\", sep = \"\\t\", na_values=\"\\\\N\", dtype = str, low_memory = False)\n",
    "\n",
    "# Filtering out companies that file 10-k in 2025Q2\n",
    "annuals = sub[sub[\"form\"] == \"10-K\"]\n",
    "print(\"Number of 10-K filings:\", len(annuals))\n",
    "print(annuals[[\"adsh\",\"cik\",\"name\",\"fy\",\"period\",\"filed\"]].head(10))"
   ]
  },
  {
   "cell_type": "code",
   "execution_count": 15,
   "id": "d14f014a-6f62-4711-8ab6-c5f8df4d09bb",
   "metadata": {},
   "outputs": [
    {
     "name": "stdout",
     "output_type": "stream",
     "text": [
      "                   adsh report line stmt inpth rfile  \\\n",
      "0  0000002488-25-000047      2    1   IS     0     H   \n",
      "1  0000002488-25-000047      2    2   IS     0     H   \n",
      "2  0000002488-25-000047      2    3   IS     0     H   \n",
      "3  0000002488-25-000047      2    4   IS     0     H   \n",
      "4  0000002488-25-000047      2    5   IS     0     H   \n",
      "\n",
      "                                                 tag               version  \\\n",
      "0  RevenueFromContractWithCustomerExcludingAssess...          us-gaap/2025   \n",
      "1  CostOfGoodsAndServiceExcludingDepreciationDepl...          us-gaap/2025   \n",
      "2    AmortizationOfAcquisitionRelatedIntangiblesCOGS  0000002488-25-000047   \n",
      "3                         CostOfGoodsAndServicesSold          us-gaap/2025   \n",
      "4                                        GrossProfit          us-gaap/2025   \n",
      "\n",
      "                                            plabel negating  \n",
      "0                                      Net revenue        0  \n",
      "1                                    Cost of sales        0  \n",
      "2  Amortization of acquisition-related intangibles        0  \n",
      "3                              Total cost of sales        0  \n",
      "4                                     Gross profit        0  \n"
     ]
    }
   ],
   "source": [
    "# Exploring the presentation map - pre.txt\n",
    "\n",
    "pre = pd.read_csv(folder_path+\"pre.txt\", sep=\"\\t\", na_values=\"\\\\N\", dtype = str, low_memory=False)\n",
    "print(pre.head())"
   ]
  },
  {
   "cell_type": "code",
   "execution_count": 18,
   "id": "69b70d32-36ad-47b6-b9ec-5e70e433cfbc",
   "metadata": {},
   "outputs": [
    {
     "name": "stdout",
     "output_type": "stream",
     "text": [
      "['BS' 'IS' 'EQ' 'CF']\n",
      "34\n",
      "       report line stmt                                                tag\n",
      "286779      3   11   BS  CashCashEquivalentsRestrictedCashAndRestricted...\n",
      "286780      3   12   BS                              PrepaidExpenseCurrent\n",
      "286781      3   13   BS                         OtherReceivablesNetCurrent\n",
      "286782      3   14   BS                                      AssetsCurrent\n",
      "286783      3   15   BS                        AssetsHeldInTrustNoncurrent\n",
      "286784      3   16   BS                                             Assets\n",
      "286785      3   18   BS                            OtherLiabilitiesCurrent\n",
      "286786      3   19   BS                          AccruedLiabilitiesCurrent\n",
      "286787      3   20   BS       SalesAndExciseTaxPayableCurrentAndNoncurrent\n",
      "286788      3   21   BS                                TaxesPayableCurrent\n",
      "286789      3   22   BS                                NotesPayableCurrent\n",
      "286790      3   23   BS                         FranchiseTaxPayableCurrent\n",
      "286791      3   24   BS                                 LiabilitiesCurrent\n",
      "286792      3   25   BS                       WarrantsAndRightsOutstanding\n",
      "286793      3   26   BS                                        Liabilities\n",
      "286794      3   27   BS                        CommitmentsAndContingencies\n",
      "286795      3   28   BS  TemporaryEquityCarryingAmountAttributableToParent\n",
      "286796      3   30   BS                                PreferredStockValue\n",
      "286797      3   31   BS                                   CommonStockValue\n",
      "286798      3   32   BS                 RetainedEarningsAccumulatedDeficit\n",
      "286799      3   33   BS                                 StockholdersEquity\n",
      "286800      3   34   BS                   LiabilitiesAndStockholdersEquity\n",
      "286801      4    7   BS            TemporaryEquityParOrStatedValuePerShare\n",
      "286802      4    8   BS                    TemporaryEquitySharesAuthorized\n",
      "286803      4    9   BS                   TemporaryEquitySharesOutstanding\n",
      "286804      4   10   BS             TemporaryEquityRedemptionPricePerShare\n",
      "286805      4   11   BS             PreferredStockParOrStatedValuePerShare\n",
      "286806      4   12   BS                     PreferredStockSharesAuthorized\n",
      "286807      4   13   BS                         PreferredStockSharesIssued\n",
      "286808      4   14   BS                    PreferredStockSharesOutstanding\n",
      "286809      4   15   BS                CommonStockParOrStatedValuePerShare\n",
      "286810      4   16   BS                        CommonStockSharesAuthorized\n",
      "286811      4   17   BS                            CommonStockSharesIssued\n",
      "286812      4   18   BS                       CommonStockSharesOutstanding\n"
     ]
    }
   ],
   "source": [
    "#Filter pre records for a chosen filing eg. adsh=\"0001213900-25-032210\"\n",
    "\n",
    "adsh_id = \"0001213900-25-032210\"\n",
    "pre_chosen = pre[pre['adsh'] == adsh_id]\n",
    "\n",
    "# Viewing the distinct statement types\n",
    "print(pre_chosen['stmt'].unique())\n",
    "\n",
    "# Balance Sheet - Rows related to BS for the chosen filing\n",
    "bs = pre_chosen[pre_chosen[\"stmt\"].str.upper().str.startswith(\"BS\")]\n",
    "print(len(bs))\n",
    "print(bs[[\"report\", \"line\", \"stmt\", \"tag\"]].head(35))"
   ]
  },
  {
   "cell_type": "code",
   "execution_count": 21,
   "id": "2ebf10aa-5d62-4101-b1f5-b20765987904",
   "metadata": {},
   "outputs": [
    {
     "name": "stdout",
     "output_type": "stream",
     "text": [
      "                   adsh                                                tag  \\\n",
      "0  0000002488-25-000047                             AccountsPayableCurrent   \n",
      "1  0000002488-25-000047                                      AssetsCurrent   \n",
      "2  0000002488-25-000047  CashAndCashEquivalentsAtCarryingValueIncluding...   \n",
      "3  0000002488-25-000047                        CommitmentsAndContingencies   \n",
      "4  0000002488-25-000047                            CommonStockSharesIssued   \n",
      "\n",
      "        version     ddate qtrs     uom segments coreg             value  \\\n",
      "0  us-gaap/2025  20250331    0     USD      NaN   NaN   2206000000.0000   \n",
      "1  us-gaap/2025  20250331    0     USD      NaN   NaN  21595000000.0000   \n",
      "2  us-gaap/2025  20240331    0     USD      NaN   NaN   4190000000.0000   \n",
      "3  us-gaap/2025  20241231    0     USD      NaN   NaN               NaN   \n",
      "4  us-gaap/2025  20250331    0  shares      NaN   NaN   1681000000.0000   \n",
      "\n",
      "  footnote  \n",
      "0      NaN  \n",
      "1      NaN  \n",
      "2      NaN  \n",
      "3      NaN  \n",
      "4      NaN  \n"
     ]
    }
   ],
   "source": [
    "# Extract num.txt\n",
    "\n",
    "num = pd.read_csv(folder_path+\"num.txt\", sep = \"\\t\", na_values=\"\\\\N\", dtype = str, low_memory=False)\n",
    "print(num.head())"
   ]
  },
  {
   "cell_type": "code",
   "execution_count": 25,
   "id": "cbb8ed1a-9964-4643-8542-4417c3a2572a",
   "metadata": {},
   "outputs": [
    {
     "name": "stdout",
     "output_type": "stream",
     "text": [
      "                         adsh                             tag     ddate qtrs  \\\n",
      "1034692  0001213900-25-032210                          Assets  20241231    0   \n",
      "1034693  0001213900-25-032210     AssetsHeldInTrustNoncurrent  20231231    0   \n",
      "1034694  0001213900-25-032210     AssetsHeldInTrustNoncurrent  20231231    0   \n",
      "1034695  0001213900-25-032210    CommonStockSharesOutstanding  20230228    0   \n",
      "1034703  0001213900-25-032210  PreferredStockSharesAuthorized  20241231    0   \n",
      "\n",
      "            uom         value  \n",
      "1034692     USD   803544.0000  \n",
      "1034693     USD  1746543.0000  \n",
      "1034694     USD  1746543.0000  \n",
      "1034695  shares  4400794.0000  \n",
      "1034703  shares  1000000.0000  \n",
      "146\n"
     ]
    }
   ],
   "source": [
    "# Filtering the chosen company\n",
    "\n",
    "num_chosen = num[num['adsh'] == adsh_id]\n",
    "bs_tags = bs['tag'].unique().tolist()\n",
    "bs_num_chosen = num_chosen[num_chosen['tag'].isin(bs_tags)]\n",
    "\n",
    "print(bs_num_chosen[[\"adsh\", \"tag\", \"ddate\", \"qtrs\", \"uom\", \"value\"]].head(5))\n",
    "print(len(bs_num_chosen))\n"
   ]
  },
  {
   "cell_type": "markdown",
   "id": "fc7d09e2-835d-4a82-81d9-93c135287f62",
   "metadata": {},
   "source": [
    "## For the chosen filing, extracting the Balance Sheet in one row"
   ]
  },
  {
   "cell_type": "code",
   "execution_count": 33,
   "id": "1a0f86a0-2c39-45c3-bb0f-15c3a15fef94",
   "metadata": {},
   "outputs": [],
   "source": [
    "import pandas as pd\n",
    "from pathlib import Path\n",
    "\n",
    "root = Path(\"/Users/agalyaayyadurai/Documents/Dissertation/Automated-Equity-Valuation/data/sec/2025q2\")\n",
    "sub = pd.read_csv(root / \"sub.txt\", sep=\"\\t\", na_values=\"\\\\N\", dtype=str, low_memory=False)\n",
    "pre = pd.read_csv(root / \"pre.txt\", sep=\"\\t\", na_values=\"\\\\N\", dtype=str, low_memory=False)\n",
    "num = pd.read_csv(root / \"num.txt\", sep=\"\\t\", na_values=\"\\\\N\", dtype=str, low_memory=False)"
   ]
  },
  {
   "cell_type": "code",
   "execution_count": 43,
   "id": "f3dde27a-0be0-40f1-a8ee-296ec4776e83",
   "metadata": {},
   "outputs": [
    {
     "name": "stdout",
     "output_type": "stream",
     "text": [
      "(1, 34)\n",
      "                   adsh     ddate  AccruedLiabilitiesCurrent    Assets  \\\n",
      "0  0001213900-25-032210  20241231                  1998193.0  803544.0   \n",
      "\n",
      "   AssetsCurrent  AssetsHeldInTrustNoncurrent  \\\n",
      "0        34277.0                     769267.0   \n",
      "\n",
      "   CashCashEquivalentsRestrictedCashAndRestrictedCashEquivalents  \\\n",
      "0                                             1674.0               \n",
      "\n",
      "   CommonStockParOrStatedValuePerShare  CommonStockValue  \\\n",
      "0                               0.0001             424.0   \n",
      "\n",
      "   FranchiseTaxPayableCurrent  ...      cik                         name  \\\n",
      "0                      8600.0  ...  1860484  RELATIVITY ACQUISITION CORP   \n",
      "\n",
      "     fy     filed  CommonStockSharesAuthorized  CommonStockSharesIssued  \\\n",
      "0  2024  20250415               100000000.0000             4247499.0000   \n",
      "\n",
      "   CommonStockSharesOutstanding  PreferredStockSharesAuthorized  \\\n",
      "0                  4247499.0000                    1000000.0000   \n",
      "\n",
      "   TemporaryEquitySharesAuthorized  TemporaryEquitySharesOutstanding  \n",
      "0                   100000000.0000                       153295.0000  \n",
      "\n",
      "[1 rows x 34 columns]\n"
     ]
    }
   ],
   "source": [
    "adsh_id = \"0001213900-25-032210\"\n",
    "\n",
    "# current period for the latest BS filing from sub\n",
    "period = sub.loc[sub[\"adsh\"] == adsh_id, \"period\"].iloc[0]\n",
    "\n",
    "# balance sheet tags from pre\n",
    "bs_tags = pre.loc[(pre[\"adsh\"] == adsh_id) & (pre[\"stmt\"].str.upper().str.startswith(\"BS\")), \"tag\"].unique()\n",
    "\n",
    "# extracting numeric facts for the tags\n",
    "num_bs = num[(num[\"adsh\"] == adsh_id) & (num[\"tag\"].isin(bs_tags))].copy()\n",
    "\n",
    "# keepign instant facts and current ddate\n",
    "num_bs = num_bs[(num_bs[\"qtrs\"] == \"0\") & (num_bs[\"ddate\"] == period)].copy()\n",
    "\n",
    "# fallback when period is not available\n",
    "if num_bs.empty:\n",
    "    latest_ddate = num[(num[\"adsh\"] == adsh_id) & (num[\"qtrs\"] == 0)][\"ddate\"].max()\n",
    "    num_bs = num[(num[\"adsh\"] == adsh_id) & (num[\"tag\"].isin(bs_tags)) & (num[\"qtrs\"] == 0) & (num[\"ddate\"] == latest_ddate)].copy()\n",
    "    \n",
    "# keeping monetary usd rows only (no shares yet)\n",
    "num_bs_money = num_bs[num_bs[\"uom\"].str.lower() == \"usd\"].copy()\n",
    "\n",
    "# dropping duplicate tags (foolproof)\n",
    "num_bs_money = num_bs_money.drop_duplicates(subset=[\"tag\"], keep = \"first\")\n",
    "\n",
    "# one row with tags as columns\n",
    "wide_bs = num_bs_money.pivot_table(index=[\"adsh\", \"ddate\"], columns = \"tag\", values = \"value\", aggfunc = \"first\").reset_index()\n",
    "\n",
    "# making values numeric\n",
    "for col in wide_bs.columns:\n",
    "    if col not in [\"adsh\", \"ddate\"]:\n",
    "        wide_bs[col] = pd.to_numeric(wide_bs[col], errors = \"coerce\")\n",
    "\n",
    "# attaching company metadata\n",
    "meta_cols = [c for c in [\"adsh\",\"cik\",\"name\",\"fy\",\"filed\"] if c in sub.columns]\n",
    "wide_bs = wide_bs.merge(sub.loc[sub[\"adsh\"] == adsh_id, meta_cols].drop_duplicates(), on = \"adsh\", how = \"left\")\n",
    "\n",
    "shares = num_bs[(num_bs[\"qtrs\"] == \"0\") & (num_bs[\"uom\"].str.lower() == \"shares\")].copy()\n",
    "shares_cur = shares[shares[\"ddate\"] == period]\n",
    "shares_wide = shares_cur.pivot_table(index=[\"adsh\",\"ddate\"], columns=\"tag\", values=\"value\", aggfunc=\"first\").reset_index()\n",
    "# merge into the monetary wide table:\n",
    "wide_bs = wide_bs.merge(shares_wide, on=[\"adsh\",\"ddate\"], how=\"left\", suffixes=(\"\", \"_shares\"))\n",
    "\n",
    "print(wide_bs.shape)\n",
    "print(wide_bs)"
   ]
  },
  {
   "cell_type": "markdown",
   "id": "cedfac3b-9f21-43a3-9f2f-7f3467c7310c",
   "metadata": {},
   "source": [
    "## Extracting IS for the chosen filing"
   ]
  },
  {
   "cell_type": "code",
   "execution_count": 45,
   "id": "ad7f6a91-ea27-4755-938a-813fbe8c9483",
   "metadata": {},
   "outputs": [
    {
     "name": "stdout",
     "output_type": "stream",
     "text": [
      "(1, 16)\n",
      "                   adsh     ddate  EarningsPerShareBasic  \\\n",
      "0  0001213900-25-032210  20241231                   -0.1   \n",
      "\n",
      "   EarningsPerShareDiluted  FairValueAdjustmentOfWarrants  \\\n",
      "0                     -0.1                        15780.0   \n",
      "\n",
      "   GainsLossesOnExtinguishmentOfDebt  GeneralAndAdministrativeExpense  \\\n",
      "0                           360114.0                         741798.0   \n",
      "\n",
      "   IncomeLossFromContinuingOperationsBeforeIncomeTaxesExtraordinaryItemsNoncontrollingInterest  \\\n",
      "0                                          -358581.0                                             \n",
      "\n",
      "   IncomeTaxExpenseBenefit  InvestmentIncomeInterest  \\\n",
      "0                  81983.0                   38883.0   \n",
      "\n",
      "   NonoperatingIncomeExpense  OperatingIncomeLoss      cik  \\\n",
      "0                   383217.0            -741798.0  1860484   \n",
      "\n",
      "                          name    fy     filed  \n",
      "0  RELATIVITY ACQUISITION CORP  2024  20250415  \n"
     ]
    }
   ],
   "source": [
    "# 2️⃣ all tags that belong to the Income Statement (stmt starts with \"IS\")\n",
    "is_tags = pre.loc[\n",
    "    (pre[\"adsh\"] == adsh_id) & (pre[\"stmt\"].str.upper().str.startswith(\"IS\")),\n",
    "    \"tag\"\n",
    "].unique()\n",
    "\n",
    "# 3️⃣ filter num.txt to this filing + these tags\n",
    "num_is = num[(num[\"adsh\"] == adsh_id) & (num[\"tag\"].isin(is_tags))].copy()\n",
    "\n",
    "# 4️⃣ keep \"duration\" rows (qtrs == \"4\") and matching period\n",
    "num_is = num_is[(num_is[\"qtrs\"] == \"4\") & (num_is[\"ddate\"] == period) & (num_is[\"uom\"].str.lower() == \"usd\")].copy()\n",
    "\n",
    "# (fallback: if no qtrs==4 exists, pick the latest date available for duration)\n",
    "if num_is.empty:\n",
    "    latest_ddate = num[(num[\"adsh\"] == adsh_id) & (num[\"qtrs\"] == \"4\")][\"ddate\"].max()\n",
    "    num_is = num[(num[\"adsh\"] == adsh_id) & (num[\"tag\"].isin(is_tags)) & (num[\"qtrs\"] == \"4\") & (num[\"ddate\"] == latest_ddate)].copy()\n",
    "\n",
    "# 5️⃣ remove duplicates per tag\n",
    "num_is = num_is.drop_duplicates(subset=[\"tag\"], keep=\"first\")\n",
    "\n",
    "# 6️⃣ pivot to wide format\n",
    "wide_is = num_is.pivot_table(index=[\"adsh\",\"ddate\"], columns=\"tag\", values=\"value\", aggfunc=\"first\").reset_index()\n",
    "\n",
    "# 7️⃣ convert numeric columns\n",
    "for col in wide_is.columns:\n",
    "    if col not in [\"adsh\",\"ddate\"]:\n",
    "        wide_is[col] = pd.to_numeric(wide_is[col], errors=\"coerce\")\n",
    "\n",
    "# 8️⃣ add metadata\n",
    "meta_cols = [c for c in [\"adsh\",\"cik\",\"name\",\"fy\",\"filed\"] if c in sub.columns]\n",
    "wide_is = wide_is.merge(\n",
    "    sub.loc[sub[\"adsh\"] == adsh_id, meta_cols].drop_duplicates(),\n",
    "    on=\"adsh\",\n",
    "    how=\"left\"\n",
    ")\n",
    "\n",
    "print(wide_is.shape)\n",
    "print(wide_is)  # see first 20 columns"
   ]
  },
  {
   "cell_type": "markdown",
   "id": "b5e93508-3048-4f34-9ee2-76ca2e9be577",
   "metadata": {},
   "source": [
    "## Extracting CF for the chosen filing"
   ]
  },
  {
   "cell_type": "code",
   "execution_count": 46,
   "id": "a2b612c7-968c-44b0-8dc4-59dafa5c2cde",
   "metadata": {},
   "outputs": [
    {
     "name": "stdout",
     "output_type": "stream",
     "text": [
      "(1, 25)\n",
      "                   adsh     ddate  \\\n",
      "0  0001213900-25-032210  20241231   \n",
      "\n",
      "   CashCashEquivalentsRestrictedCashAndRestrictedCashEquivalentsPeriodIncreaseDecreaseExcludingExchangeRateEffect  \\\n",
      "0                                            -5457.0                                                                \n",
      "\n",
      "   CashWithdrawnFromTrustAccountInConnectionWithRedemption  \\\n",
      "0                                         -1019230.0         \n",
      "\n",
      "   FairValueAdjustmentOfWarrants  GainsLossesOnExtinguishmentOfDebt  \\\n",
      "0                        15780.0                           360114.0   \n",
      "\n",
      "   IncomeTaxesPaid  IncreaseDecreaseInAccruedIncomeTaxesPayable  \\\n",
      "0          24970.0                                      76953.0   \n",
      "\n",
      "   IncreaseDecreaseInAccruedLiabilities  \\\n",
      "0                              402910.0   \n",
      "\n",
      "   IncreaseDecreaseInDueToRelatedParties  ...  \\\n",
      "0                                27882.0  ...   \n",
      "\n",
      "   NetCashProvidedByUsedInInvestingActivities  \\\n",
      "0                                  -1022301.0   \n",
      "\n",
      "   NetCashProvidedByUsedInOperatingActivities  \\\n",
      "0                                   -346900.0   \n",
      "\n",
      "   PaymentsForProceedsFromInvestments  PaymentsForRedemptionOfOrdinaryShares  \\\n",
      "0                             28216.0                              1019230.0   \n",
      "\n",
      "   ProceedsFromRelatedPartyDebt  ProceedsFromRepaymentsOfNotesPayable  \\\n",
      "0                      249985.0                               94529.0   \n",
      "\n",
      "       cik                         name    fy     filed  \n",
      "0  1860484  RELATIVITY ACQUISITION CORP  2024  20250415  \n",
      "\n",
      "[1 rows x 25 columns]\n"
     ]
    }
   ],
   "source": [
    "# 2️⃣ all tags belonging to the Cash Flow Statement\n",
    "cf_tags = pre.loc[\n",
    "    (pre[\"adsh\"] == adsh_id) & (pre[\"stmt\"].str.upper().str.startswith(\"CF\")),\n",
    "    \"tag\"\n",
    "].unique()\n",
    "\n",
    "# 3️⃣ filter num.txt to this filing + these tags\n",
    "num_cf = num[(num[\"adsh\"] == adsh_id) & (num[\"tag\"].isin(cf_tags))].copy()\n",
    "\n",
    "# 4️⃣ keep \"duration\" rows (qtrs == \"4\") and matching period\n",
    "num_cf = num_cf[\n",
    "    (num_cf[\"qtrs\"] == \"4\") &\n",
    "    (num_cf[\"ddate\"] == period) &\n",
    "    (num_cf[\"uom\"].str.lower() == \"usd\")\n",
    "].copy()\n",
    "\n",
    "# fallback: use latest available if none match\n",
    "if num_cf.empty:\n",
    "    latest_ddate = num[(num[\"adsh\"] == adsh_id) & (num[\"qtrs\"] == \"4\")][\"ddate\"].max()\n",
    "    num_cf = num[\n",
    "        (num[\"adsh\"] == adsh_id) &\n",
    "        (num[\"tag\"].isin(cf_tags)) &\n",
    "        (num[\"qtrs\"] == \"4\") &\n",
    "        (num[\"ddate\"] == latest_ddate)\n",
    "    ].copy()\n",
    "\n",
    "# 5️⃣ remove duplicates per tag\n",
    "num_cf = num_cf.drop_duplicates(subset=[\"tag\"], keep=\"first\")\n",
    "\n",
    "# 6️⃣ pivot to wide\n",
    "wide_cf = num_cf.pivot_table(\n",
    "    index=[\"adsh\",\"ddate\"],\n",
    "    columns=\"tag\",\n",
    "    values=\"value\",\n",
    "    aggfunc=\"first\"\n",
    ").reset_index()\n",
    "\n",
    "# 7️⃣ convert numeric columns\n",
    "for col in wide_cf.columns:\n",
    "    if col not in [\"adsh\",\"ddate\"]:\n",
    "        wide_cf[col] = pd.to_numeric(wide_cf[col], errors=\"coerce\")\n",
    "\n",
    "# 8️⃣ merge metadata\n",
    "meta_cols = [c for c in [\"adsh\",\"cik\",\"name\",\"fy\",\"filed\"] if c in sub.columns]\n",
    "wide_cf = wide_cf.merge(\n",
    "    sub.loc[sub[\"adsh\"] == adsh_id, meta_cols].drop_duplicates(),\n",
    "    on=\"adsh\",\n",
    "    how=\"left\"\n",
    ")\n",
    "\n",
    "print(wide_cf.shape)\n",
    "print(wide_cf)"
   ]
  },
  {
   "cell_type": "code",
   "execution_count": null,
   "id": "663339ab-1c9d-4c19-a80c-05a82f69d99e",
   "metadata": {},
   "outputs": [],
   "source": []
  }
 ],
 "metadata": {
  "kernelspec": {
   "display_name": "automated-equity-valuation",
   "language": "python",
   "name": "venv"
  },
  "language_info": {
   "codemirror_mode": {
    "name": "ipython",
    "version": 3
   },
   "file_extension": ".py",
   "mimetype": "text/x-python",
   "name": "python",
   "nbconvert_exporter": "python",
   "pygments_lexer": "ipython3",
   "version": "3.12.7"
  }
 },
 "nbformat": 4,
 "nbformat_minor": 5
}
