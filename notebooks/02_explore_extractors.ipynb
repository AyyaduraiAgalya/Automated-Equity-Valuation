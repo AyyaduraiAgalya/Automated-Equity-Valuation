{
 "cells": [
  {
   "cell_type": "code",
   "execution_count": 1,
   "id": "60dd6089-6b85-4016-bbe2-3d20709d654b",
   "metadata": {},
   "outputs": [
    {
     "name": "stdout",
     "output_type": "stream",
     "text": [
      "Root directory: /Users/agalyaayyadurai/Documents/Dissertation/Automated-Equity-Valuation\n",
      "Imports successful!\n"
     ]
    }
   ],
   "source": [
    "import sys\n",
    "from pathlib import Path\n",
    "\n",
    "root_dir = Path.cwd().parent  # Go one folder up from /notebooks\n",
    "print(\"Root directory:\", root_dir)\n",
    "\n",
    "if str(root_dir) not in sys.path:\n",
    "    sys.path.append(str(root_dir))\n",
    "\n",
    "# testing\n",
    "from src.data_prep.fsds_loader import load_fsds_from_zip\n",
    "from src.data_prep.extractor_bs import extract_balance_sheets\n",
    "from src.data_prep.extractor_is import extract_income_statements\n",
    "from src.data_prep.extractor_cf import extract_cash_flows\n",
    "from src.data_prep.silver_shares import build_silver_shares\n",
    "print(\"Imports successful!\")"
   ]
  },
  {
   "cell_type": "markdown",
   "id": "2685921f-a2e6-4906-b74d-30e7545f757c",
   "metadata": {},
   "source": [
    "### Filings Dataframe per Zip"
   ]
  },
  {
   "cell_type": "code",
   "execution_count": 2,
   "id": "9b4c6b51-8360-4be1-b653-42753a7a68b1",
   "metadata": {},
   "outputs": [
    {
     "name": "stdout",
     "output_type": "stream",
     "text": [
      "(1252, 9)\n"
     ]
    }
   ],
   "source": [
    "from pathlib import Path\n",
    "from src.data_prep.filings_index import build_filings_index\n",
    "\n",
    "zip_path = Path(\"../data/raw/2025q2.zip\")\n",
    "out_path = Path(\"../data/bronze/filings/year_quarter=2025Q2/filings.parquet\")\n",
    "\n",
    "filings_df = build_filings_index(zip_path, out_path=out_path)\n",
    "\n",
    "print(filings_df.shape)\n",
    "print(filings_df['sic'].nunique())\n",
    "print(\"Unique companies:\", filings_df[\"cik\"].nunique())\n",
    "print(\"Form breakdown:\\n\", filings_df[\"form\"].value_counts())"
   ]
  },
  {
   "cell_type": "markdown",
   "id": "df33299e-4556-4ae9-80f6-5a83d9bca26d",
   "metadata": {},
   "source": [
    "### Balance Sheet Dataframe per zip"
   ]
  },
  {
   "cell_type": "code",
   "execution_count": 5,
   "id": "c354adff-e1e4-4838-9062-019847d0e810",
   "metadata": {},
   "outputs": [
    {
     "name": "stdout",
     "output_type": "stream",
     "text": [
      "Extracted 1,278,344 BS facts from 2025q2.zip | filings=7,006\n",
      "Shape: (1278344, 17)\n",
      "Columns: ['adsh', 'tag', 'version', 'ddate', 'qtrs', 'uom', 'coreg', 'value', 'cik', 'name', 'form', 'fy', 'fp', 'period', 'filed', 'sic', 'source_zip']\n",
      "\n",
      "Unique filings: 7006\n",
      "Unique tags: 10674\n",
      "                   adsh                                   tag       version  \\\n",
      "0  0000002488-25-000047                AccountsPayableCurrent  us-gaap/2025   \n",
      "1  0000002488-25-000047                         AssetsCurrent  us-gaap/2025   \n",
      "2  0000002488-25-000047               CommonStockSharesIssued  us-gaap/2025   \n",
      "3  0000002488-25-000047            DeferredIncomeTaxAssetsNet  us-gaap/2025   \n",
      "4  0000002488-25-000047  IntangibleAssetsNetExcludingGoodwill  us-gaap/2025   \n",
      "\n",
      "      ddate qtrs     uom coreg         value  cik name form   fy   fp period  \\\n",
      "0  20250331    0     USD   NaN  2.206000e+09  NaN  NaN  NaN  NaN  NaN    NaN   \n",
      "1  20250331    0     USD   NaN  2.159500e+10  NaN  NaN  NaN  NaN  NaN    NaN   \n",
      "2  20250331    0  shares   NaN  1.681000e+09  NaN  NaN  NaN  NaN  NaN    NaN   \n",
      "3  20241231    0     USD   NaN  6.880000e+08  NaN  NaN  NaN  NaN  NaN    NaN   \n",
      "4  20241231    0     USD   NaN  1.893000e+10  NaN  NaN  NaN  NaN  NaN    NaN   \n",
      "\n",
      "  filed  sic  source_zip  \n",
      "0   NaN  NaN  2025q2.zip  \n",
      "1   NaN  NaN  2025q2.zip  \n",
      "2   NaN  NaN  2025q2.zip  \n",
      "3   NaN  NaN  2025q2.zip  \n",
      "4   NaN  NaN  2025q2.zip  \n",
      "Saved 1,278,344 rows to ../data/bronze/bs/year_quarter=2025Q2/bs.parquet\n"
     ]
    }
   ],
   "source": [
    "from pathlib import Path\n",
    "from src.data_prep.extractor_bs import extract_balance_sheets\n",
    "\n",
    "zip_path = Path(\"../data/raw/2025q2.zip\")\n",
    "out_path = Path(\"../data/bronze/bs/year_quarter=2025Q2/bs.parquet\")\n",
    "\n",
    "# Run the extractor\n",
    "bs_df = extract_balance_sheets(zip_path)\n",
    "\n",
    "print(\"Shape:\", bs_df.shape)               # e.g. (50000, 15)\n",
    "print(\"Columns:\", bs_df.columns.tolist())  # should list adsh, tag, ddate, value, etc.\n",
    "print(\"\\nUnique filings:\", bs_df['adsh'].nunique())\n",
    "print(\"Unique tags:\", bs_df['tag'].nunique())\n",
    "print(bs_df.head())\n",
    "\n",
    "# Save output neatly\n",
    "out_path.parent.mkdir(parents=True, exist_ok=True)\n",
    "bs_df.to_parquet(out_path, index=False)\n",
    "print(f\"Saved {len(bs_df):,} rows to {out_path}\")\n"
   ]
  },
  {
   "cell_type": "markdown",
   "id": "e3ad07ee-8e89-44ea-b786-1a51515cc418",
   "metadata": {},
   "source": [
    "### Income Statement Dataframe per zip"
   ]
  },
  {
   "cell_type": "code",
   "execution_count": 6,
   "id": "d6888390-9acb-4f73-b9e2-24feb11150a1",
   "metadata": {},
   "outputs": [
    {
     "name": "stdout",
     "output_type": "stream",
     "text": [
      "Extracted 711,229 IS facts from 2025q2.zip | filings=7,002\n",
      "Shape: (711229, 17)\n",
      "Unique filings: 7002\n",
      "Unique tags: 9728\n",
      "                   adsh                                    tag       version  \\\n",
      "0  0000002488-25-000047             CostOfGoodsAndServicesSold  us-gaap/2025   \n",
      "1  0000002488-25-000047  IncomeLossFromEquityMethodInvestments  us-gaap/2025   \n",
      "2  0000002488-25-000047                IncomeTaxExpenseBenefit  us-gaap/2025   \n",
      "3  0000002488-25-000047                        InterestExpense  us-gaap/2025   \n",
      "4  0000002488-25-000047                    OperatingIncomeLoss  us-gaap/2025   \n",
      "\n",
      "      ddate qtrs  uom coreg         value  cik name form   fy   fp period  \\\n",
      "0  20240331    1  USD   NaN  2.913000e+09  NaN  NaN  NaN  NaN  NaN    NaN   \n",
      "1  20250331    1  USD   NaN  7.000000e+06  NaN  NaN  NaN  NaN  NaN    NaN   \n",
      "2  20250331    1  USD   NaN  1.230000e+08  NaN  NaN  NaN  NaN  NaN    NaN   \n",
      "3  20240331    1  USD   NaN  2.500000e+07  NaN  NaN  NaN  NaN  NaN    NaN   \n",
      "4  20240331    1  USD   NaN -1.084000e+09  NaN  NaN  NaN  NaN  NaN    NaN   \n",
      "\n",
      "  filed  sic  source_zip  \n",
      "0   NaN  NaN  2025q2.zip  \n",
      "1   NaN  NaN  2025q2.zip  \n",
      "2   NaN  NaN  2025q2.zip  \n",
      "3   NaN  NaN  2025q2.zip  \n",
      "4   NaN  NaN  2025q2.zip  \n"
     ]
    }
   ],
   "source": [
    "from pathlib import Path\n",
    "from src.data_prep.extractor_is import extract_income_statements\n",
    "\n",
    "zip_path = Path(\"../data/raw/2025q2.zip\")\n",
    "out_path = Path(\"../data/bronze/is/year_quarter=2025Q2/is.parquet\")\n",
    "is_df = extract_income_statements(zip_path)\n",
    "\n",
    "print(\"Shape:\", is_df.shape)\n",
    "print(\"Unique filings:\", is_df[\"adsh\"].nunique())\n",
    "print(\"Unique tags:\", is_df[\"tag\"].nunique())\n",
    "print(is_df.head())\n",
    "\n",
    "\n",
    "out_path.parent.mkdir(parents=True, exist_ok=True)\n",
    "is_df.to_parquet(out_path, index=False)"
   ]
  },
  {
   "cell_type": "markdown",
   "id": "3a24b94a-42b3-4be3-86b1-c32816d530fc",
   "metadata": {},
   "source": [
    "### Cash Flow Statement Dataframe per zip"
   ]
  },
  {
   "cell_type": "code",
   "execution_count": 2,
   "id": "c0aeb211-354b-4eb5-9cf6-3f8818721496",
   "metadata": {},
   "outputs": [
    {
     "name": "stdout",
     "output_type": "stream",
     "text": [
      "Extracted 597,068 CF facts from 2025q2.zip | filings=6,954\n",
      "Shape: (597068, 17)\n",
      "Unique filings: 6954\n",
      "Unique tags: 29467\n",
      "                   adsh                                                tag  \\\n",
      "0  0000002488-25-000047  CashAndCashEquivalentsAtCarryingValueIncluding...   \n",
      "1  0000002488-25-000047                                 InventoryWriteDown   \n",
      "2  0000002488-25-000047         PaymentsToAcquirePropertyPlantAndEquipment   \n",
      "3  0000002488-25-000047              PaymentsToAcquireShortTermInvestments   \n",
      "4  0000002488-25-000047                 ProceedsFromIssuanceOfLongTermDebt   \n",
      "\n",
      "        version     ddate qtrs  uom coreg         value  cik name form   fy  \\\n",
      "0  us-gaap/2025  20240331    0  USD   NaN  4.190000e+09  NaN  NaN  NaN  NaN   \n",
      "1  us-gaap/2025  20250331    1  USD   NaN  0.000000e+00  NaN  NaN  NaN  NaN   \n",
      "2  us-gaap/2025  20250331    1  USD   NaN  2.120000e+08  NaN  NaN  NaN  NaN   \n",
      "3  us-gaap/2025  20240331    1  USD   NaN  4.330000e+08  NaN  NaN  NaN  NaN   \n",
      "4  us-gaap/2025  20250331    1  USD   NaN  1.494000e+09  NaN  NaN  NaN  NaN   \n",
      "\n",
      "    fp period filed  sic  source_zip  \n",
      "0  NaN    NaN   NaN  NaN  2025q2.zip  \n",
      "1  NaN    NaN   NaN  NaN  2025q2.zip  \n",
      "2  NaN    NaN   NaN  NaN  2025q2.zip  \n",
      "3  NaN    NaN   NaN  NaN  2025q2.zip  \n",
      "4  NaN    NaN   NaN  NaN  2025q2.zip  \n",
      "Saved 597,068 rows to ../data/bronze/cf/year_quarter=2025Q2/cf.parquet\n"
     ]
    }
   ],
   "source": [
    "from pathlib import Path\n",
    "from src.data_prep.extractor_cf import extract_cash_flows\n",
    "\n",
    "zip_path = Path(\"../data/raw/2025q2.zip\")\n",
    "out_path = Path(\"../data/bronze/cf/year_quarter=2025Q2/cf.parquet\")\n",
    "cf_df = extract_cash_flows(zip_path)\n",
    "\n",
    "print(\"Shape:\", cf_df.shape)\n",
    "print(\"Unique filings:\", cf_df[\"adsh\"].nunique())\n",
    "print(\"Unique tags:\", cf_df[\"tag\"].nunique())\n",
    "print(cf_df.head())\n",
    "\n",
    "\n",
    "out_path.parent.mkdir(parents=True, exist_ok=True)\n",
    "cf_df.to_parquet(out_path, index=False)\n",
    "print(f\"Saved {len(cf_df):,} rows to {out_path}\")"
   ]
  },
  {
   "cell_type": "markdown",
   "id": "e6168988-ee4d-424c-8fae-4b12ebd50b5a",
   "metadata": {},
   "source": [
    "### SILVER - Shares dataframe per zip"
   ]
  },
  {
   "cell_type": "code",
   "execution_count": 2,
   "id": "2c4de142-3d58-4412-9cf5-82c44e880079",
   "metadata": {},
   "outputs": [
    {
     "name": "stdout",
     "output_type": "stream",
     "text": [
      "                   adsh   cik                            name    fy    period  \\\n",
      "0  0000002488-25-000047  2488      ADVANCED MICRO DEVICES INC  2025  20250331   \n",
      "1  0000002969-25-000027  2969  AIR PRODUCTS & CHEMICALS, INC.  2025  20250331   \n",
      "2  0000003499-25-000009  3499                  ALEXANDERS INC  2025  20250331   \n",
      "3  0000003545-25-000079  3545                     ALICO, INC.  2025  20250331   \n",
      "4  0000003570-25-000049  3570             CHENIERE ENERGY INC  2025  20250331   \n",
      "\n",
      "      filed  form   sic  CommonSharesAuth  CommonSharesIssuable  ...  \\\n",
      "0  20250507  10-Q  3674      2.250000e+09                   NaN  ...   \n",
      "1  20250501  10-Q  2810               NaN                   NaN  ...   \n",
      "2  20250505  10-Q  6798      1.000000e+07                   NaN  ...   \n",
      "3  20250513  10-Q  0100      1.500000e+07                   NaN  ...   \n",
      "4  20250508  10-Q  4924      4.800000e+08                   NaN  ...   \n",
      "\n",
      "   TreasuryShares  TrustShares  UnitsAuth  UnitsIssued  UnitsOut  WASOBasic  \\\n",
      "0      65000000.0          NaN        NaN          NaN       NaN        NaN   \n",
      "1      26911370.0          NaN        NaN          NaN       NaN        NaN   \n",
      "2         66160.0          NaN        NaN          NaN       NaN        NaN   \n",
      "3        778000.0          NaN        NaN          NaN       NaN        NaN   \n",
      "4      56300000.0          NaN        NaN          NaN       NaN        NaN   \n",
      "\n",
      "   WASOCombined  WASODiluted  WASOGeneric  fp  \n",
      "0           NaN          NaN          NaN  Q1  \n",
      "1           NaN          NaN          NaN  Q2  \n",
      "2           NaN          NaN          NaN  Q1  \n",
      "3           NaN          NaN          NaN  Q2  \n",
      "4           NaN          NaN          NaN  Q1  \n",
      "\n",
      "[5 rows x 34 columns]\n"
     ]
    }
   ],
   "source": [
    "from pathlib import Path\n",
    "\n",
    "reload(tm)\n",
    "from src.data_prep.silver_shares import build_silver_shares\n",
    "\n",
    "zip_path = Path(\"../data/raw/2025q2.zip\")\n",
    "out = Path(\"../data/silver/shares/year_quarter=2025Q2/shares_wide.parquet\")\n",
    "\n",
    "shares_2025q2 = build_silver_shares(zip_path, out_path=out)\n",
    "print(shares_2025q2.head())"
   ]
  },
  {
   "cell_type": "markdown",
   "id": "46fa21c8-4037-452e-b787-9e8a963c37a1",
   "metadata": {},
   "source": [
    "### sugest tag map run"
   ]
  },
  {
   "cell_type": "code",
   "execution_count": 2,
   "id": "9e42a5dc-a0f0-40a7-b241-c322d6c2641e",
   "metadata": {},
   "outputs": [],
   "source": [
    "from pathlib import Path\n",
    "from src.tools.suggest_tag_map import suggest_from_zip, save_suggestions\n",
    "\n",
    "sug = suggest_from_zip(Path(\"../data/raw/2025q2.zip\"), top_n=60)\n",
    "save_suggestions(sug, Path(\"../logs/coverage/suggestions_2025Q2\"))\n"
   ]
  },
  {
   "cell_type": "markdown",
   "id": "c495c0e8-6591-4a2d-8e1a-d38d6b3e139a",
   "metadata": {},
   "source": [
    "### SILVER - Extract Balance Sheet into a dataframe"
   ]
  },
  {
   "cell_type": "code",
   "execution_count": null,
   "id": "15c914c1-6a60-440d-97e7-1b6db41fe8a2",
   "metadata": {},
   "outputs": [],
   "source": []
  }
 ],
 "metadata": {
  "kernelspec": {
   "display_name": "automated-equity-valuation",
   "language": "python",
   "name": "venv"
  },
  "language_info": {
   "codemirror_mode": {
    "name": "ipython",
    "version": 3
   },
   "file_extension": ".py",
   "mimetype": "text/x-python",
   "name": "python",
   "nbconvert_exporter": "python",
   "pygments_lexer": "ipython3",
   "version": "3.12.7"
  }
 },
 "nbformat": 4,
 "nbformat_minor": 5
}
